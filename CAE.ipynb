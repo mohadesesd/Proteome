{
  "nbformat": 4,
  "nbformat_minor": 0,
  "metadata": {
    "colab": {
      "name": "CAE.ipynb",
      "provenance": [],
      "collapsed_sections": []
    },
    "kernelspec": {
      "display_name": "Python 3",
      "name": "python3"
    }
  },
  "cells": [
    {
      "cell_type": "code",
      "metadata": {
        "id": "zl0ZjU1BVw1y",
        "colab": {
          "base_uri": "https://localhost:8080/"
        },
        "outputId": "562dfad0-d963-40f7-88ad-9445ee5c9634"
      },
      "source": [
        "!pip install -U -q PyDrive\n",
        "from pydrive.auth import GoogleAuth\n",
        "from pydrive.drive import GoogleDrive\n",
        "from google.colab import auth\n",
        "from oauth2client.client import GoogleCredentials# Authenticate and create the PyDrive client.\n",
        "import pandas as pd\n",
        "from matplotlib import pyplot\n",
        "from keras.layers import Input, Dense, BatchNormalization, Lambda, GaussianNoise, GaussianDropout\n",
        "from keras.models import Model\n",
        "import keras.backend as backend\n",
        "import numpy as np\n",
        "import keras\n",
        "from sklearn.preprocessing import LabelEncoder, normalize\n",
        "from keras.utils import np_utils\n",
        "import pandas as pd\n",
        "import tensorflow.compat.v1 as tf\n",
        "tf.disable_v2_behavior()\n",
        "import time\n",
        "import math\n",
        "from sklearn.metrics import mean_squared_error,median_absolute_error,mean_absolute_error,explained_variance_score,r2_score\n",
        "from math import sqrt\n",
        "import keras.utils as np_utils\n",
        "from sklearn.preprocessing import LabelEncoder\n",
        "import numpy as np"
      ],
      "execution_count": 1,
      "outputs": [
        {
          "output_type": "stream",
          "text": [
            "WARNING:tensorflow:From /usr/local/lib/python3.7/dist-packages/tensorflow/python/compat/v2_compat.py:96: disable_resource_variables (from tensorflow.python.ops.variable_scope) is deprecated and will be removed in a future version.\n",
            "Instructions for updating:\n",
            "non-resource variables are not supported in the long term\n"
          ],
          "name": "stdout"
        }
      ]
    },
    {
      "cell_type": "code",
      "metadata": {
        "id": "81suZoTimVbL"
      },
      "source": [
        "auth.authenticate_user()\n",
        "gauth = GoogleAuth()\n",
        "gauth.credentials = GoogleCredentials.get_application_default()\n",
        "drive = GoogleDrive(gauth)"
      ],
      "execution_count": 2,
      "outputs": []
    },
    {
      "cell_type": "code",
      "metadata": {
        "id": "DAKzqYAOWMqT"
      },
      "source": [
        "id = \"1uiIMbheUVJK82LMshquFhDAQW8vAE6Dt\"\n",
        "downloaded = drive.CreateFile({'id':id}) \n",
        "downloaded.GetContentFile('gene.trainset.csv')  \n",
        "gene_1 = pd.read_csv('gene.trainset.csv')"
      ],
      "execution_count": 3,
      "outputs": []
    },
    {
      "cell_type": "code",
      "metadata": {
        "id": "Uwt9rd5_-vt_"
      },
      "source": [
        "gene_train = gene_1.drop(columns = [\"Cancer_Type\", \"Sample_ID\"])"
      ],
      "execution_count": 4,
      "outputs": []
    },
    {
      "cell_type": "code",
      "metadata": {
        "id": "AoTu67epXiGt"
      },
      "source": [
        "id = \"1MCvPmLzJnMq-DM9ch0MS7B3btv7RN3QO\"\n",
        "downloaded = drive.CreateFile({'id':id}) \n",
        "downloaded.GetContentFile('gene.val.csv')  \n",
        "gene_2 = pd.read_csv('gene.val.csv')"
      ],
      "execution_count": 5,
      "outputs": []
    },
    {
      "cell_type": "code",
      "metadata": {
        "id": "inBO2lUh-204"
      },
      "source": [
        "gene_test = gene_2.drop(columns = [\"Cancer_Type\", \"Sample_ID\"])"
      ],
      "execution_count": 6,
      "outputs": []
    },
    {
      "cell_type": "code",
      "metadata": {
        "id": "x4xiH2Hn-5vB"
      },
      "source": [
        "id = '1ZhpxOI75zZBBJMRu4supVZzWzGmoFUaR'\n",
        "downloaded = drive.CreateFile({'id':id}) \n",
        "downloaded.GetContentFile('pro.trainset.csv')  \n",
        "pro1 = pd.read_csv('pro.trainset.csv')"
      ],
      "execution_count": 7,
      "outputs": []
    },
    {
      "cell_type": "code",
      "metadata": {
        "id": "P0ncJRbV-8_P"
      },
      "source": [
        "lable_train = list(pro1.Cancer_Type)\n",
        "pro_train = pro1.drop(columns = [\"Cancer_Type\", \"Sample_ID\"])"
      ],
      "execution_count": 8,
      "outputs": []
    },
    {
      "cell_type": "code",
      "metadata": {
        "id": "4UT3DVK5_BpA"
      },
      "source": [
        "id = '1Mof6HE8iPsGB5-ZzXvE8pulizup1EVjM'\n",
        "downloaded = drive.CreateFile({'id':id}) \n",
        "downloaded.GetContentFile('pro.val.csv')  \n",
        "pro2 = pd.read_csv('pro.val.csv')"
      ],
      "execution_count": 9,
      "outputs": []
    },
    {
      "cell_type": "code",
      "metadata": {
        "id": "PjWAphSp_CeN"
      },
      "source": [
        "lable_test = list(pro2.Cancer_Type)\n",
        "pro_test = pro2.drop(columns = [\"Cancer_Type\", \"Sample_ID\"])"
      ],
      "execution_count": 10,
      "outputs": []
    },
    {
      "cell_type": "code",
      "metadata": {
        "id": "L3rsf-XGX-qp"
      },
      "source": [
        "le = LabelEncoder()\n",
        "lable1 = np.ravel(lable_train)\n",
        "le.fit(lable1)\n",
        "lable1 = le.transform(lable1)\n",
        "\n",
        "le = LabelEncoder()\n",
        "lable2 = np.ravel(lable_test)\n",
        "le.fit(lable2)\n",
        "lable2 = le.transform(lable2)\n"
      ],
      "execution_count": 11,
      "outputs": []
    },
    {
      "cell_type": "code",
      "metadata": {
        "id": "DxQmmO8rYClc"
      },
      "source": [
        "cat1 = np_utils.to_categorical(lable1)\n",
        "cat1 = pd.DataFrame({'tag' + str(i) : cat1[:, i]for i in range(len(cat1[0]))})\n",
        "cat_train = cat1[:gene_train.shape[0]]\n",
        "\n",
        "cat2 = np_utils.to_categorical(lable2)\n",
        "cat2 = pd.DataFrame({'tag' + str(i) : cat2[:, i]for i in range(len(cat2[0]))})\n",
        "cat_test = cat2[:gene_test.shape[0]]"
      ],
      "execution_count": 12,
      "outputs": []
    },
    {
      "cell_type": "code",
      "metadata": {
        "id": "p1o41r2VZxm1"
      },
      "source": [
        "def model(m_rna_train, pro_train,label_train, m_rna_test, pro_test, label_test):\n",
        "        \"\"\"\n",
        "        We conducted an architecture of Contractive Autoencoder that is capable of simultaneous inference of various properties of biological samples, \n",
        "        through multi-task and transfer learning. It encodes the whole transcription profile into a strikingly low-dimensional latent vector of size 8, and then \n",
        "        recovers mRNA and protein expression profiles, disease type from this vector. This latent space is significantly better than the original gene \n",
        "        expression profiles for discriminating samples based on their disease. \n",
        "        We employed this architecture on mRNA transcription profiles of 7150 clinical samples from 32 classes.\n",
        "        :param : m_rna_train, pro_train,label_train, m_rna_test, pro_test, label_test\n",
        "        :return: pred_train, pred_pro, score, history\n",
        "        \"\"\"\n",
        "        opt = keras.optimizers.Nadam(learning_rate=1e-3)\n",
        "\n",
        "        inputs = Input(shape=(m_rna_train.shape[1],), name=\"inputs\")\n",
        "\n",
        "        # Q(z|x) -- encoder\n",
        "        inputs_noise = GaussianNoise(stddev=0.0)(inputs)\n",
        "        drop1 = GaussianDropout(rate=0.5 ** 2 / (1 + 0.5 ** 2))(inputs_noise)\n",
        "        inputs_0 = BatchNormalization(name=\"inputs_0\")(drop1)\n",
        "        inputs_1 = Dense(1024, activation='relu', name=\"inputs_1\")(inputs_0)\n",
        "        inputs_2 = BatchNormalization(name=\"inputs_2\")(inputs_1)\n",
        "        drop2 = GaussianDropout(rate=0.5 ** 2 / (1 + 0.5 ** 2))(inputs_2)\n",
        "        inputs_3 = Dense(512, activation='relu', name=\"inputs_3\")(drop2)\n",
        "        inputs_4 = BatchNormalization(name=\"inputs_4\")(inputs_3)\n",
        "        drop3 = GaussianDropout(rate=0.5 ** 2 / (1 + 0.5 ** 2))(inputs_4)\n",
        "        inputs_5 = Dense(128, activation='relu', name=\"inputs_5\")(inputs_4)\n",
        "        inputs_6= BatchNormalization(name=\"inputs_6\")(inputs_5)\n",
        "        drop4 = GaussianDropout(rate=0.5 ** 2 / (1 + 0.5 ** 2))(inputs_6)\n",
        "        latent = Dense(8, activation='linear', name=\"encoded\")(drop4)\n",
        "\n",
        "        # Decoder of Gene Expression Profile\n",
        "        inputs_7 = BatchNormalization(name=\"inputs_7\")(latent)\n",
        "        inputs_8 = Dense(128, activation='relu', name=\"inputs_8\")(inputs_7)\n",
        "        inputs_9 = BatchNormalization(name=\"inputs_9\")(inputs_8)\n",
        "        drop5 = GaussianDropout(rate=0.5 ** 2 / (1 + 0.5 ** 2))(inputs_9)\n",
        "        inputs_11 = Dense(512, activation='relu', name=\"inputs_11\")(drop5)\n",
        "        inputs_12 = BatchNormalization(name=\"inputs_12\")(inputs_11)\n",
        "        drop6 = GaussianDropout(rate=0.5 ** 2 / (1 + 0.5 ** 2))(inputs_12)\n",
        "        inputs_14 = Dense(1024, activation='relu', name=\"inputs_14\")(drop6)\n",
        "        inputs_15 = BatchNormalization(name=\"inputs_15\")(inputs_14)\n",
        "        drop7 = GaussianDropout(rate=0.5 ** 2 / (1 + 0.5 ** 2))(inputs_15)\n",
        "        output_tcga = Dense(m_rna_train.shape[1], activation='relu', name=\"m_rna\")(drop7)\n",
        "\n",
        "        # Decoder of Protein Expression Profile\n",
        "        inputs_16 = BatchNormalization(name=\"inputs_16\")(latent)\n",
        "        inputs_17 = Dense(64, activation='relu', name=\"inputs_17\")(inputs_16)\n",
        "        inputs_18 = BatchNormalization(name=\"inputs_18\")(inputs_17)\n",
        "        drop8 = GaussianDropout(rate=0.5 ** 2 / (1 + 0.5 ** 2))(inputs_18)\n",
        "        inputs_19 = Dense(128, activation='relu', name=\"inputs_19\")(drop8)\n",
        "        inputs_20 = BatchNormalization(name=\"inputs_20\")(inputs_19)\n",
        "        drop9 = GaussianDropout(rate=0.5 ** 2 / (1 + 0.5 ** 2))(inputs_20)\n",
        "        output_pro = Dense(pro_train.shape[1], activation='relu', name=\"pro\")(drop9)\n",
        "\n",
        "        # Classifier\n",
        "        output_cl_0 = Dense(32, activation=\"softmax\", name=\"cl_cancer\")(latent)\n",
        "\n",
        "\n",
        "        lambda_value = 2.5596e-6\n",
        "\n",
        "        def contractive_loss(y_pred, y_true):\n",
        "\n",
        "            w = backend.variable(value=scae.get_layer('encoded').get_weights()[0])  \n",
        "            w = backend.transpose(w)  \n",
        "            h = scae.get_layer('encoded').output\n",
        "            dh = h * (1 - h)  \n",
        "            contractive = lambda_value * backend.sum(dh ** 2 * backend.sum(w ** 2, axis=1), axis=1)\n",
        "            mse = backend.mean(backend.square(y_true - y_pred), axis=1)\n",
        "            return mse + contractive\n",
        "\n",
        "        scae = Model(inputs, [output_tcga, output_pro, output_cl_0])\n",
        "\n",
        "        scae.compile(optimizer='nadam',\n",
        "                     loss=[contractive_loss, \"mse\", \"categorical_crossentropy\"],\n",
        "                     loss_weights=[5e-2, 5e-2, 5e-1],\n",
        "                     metrics={\"m_rna\":[contractive_loss, \"mse\", \"mae\"], \"pro\": [\"mae\", \"mse\"], \"cl_cancer\": \"acc\"})\n",
        "        \n",
        "        \n",
        "        history = scae.fit([m_rna_train], [m_rna_train, pro_train, label_train],\n",
        "                 batch_size=24, epochs=10, verbose=1, validation_data = (m_rna_test, [m_rna_test, pro_test, label_test]))\n",
        "        score = scae.evaluate(m_rna_test, [m_rna_test, pro_test, label_test], verbose=1,\n",
        "                              batch_size=24)\n",
        "        pred_pro = scae.predict(m_rna_test, verbose=1,\n",
        "                              batch_size=24)\n",
        "        pred_train = scae.predict(m_rna_train, verbose=1,\n",
        "                              batch_size=24)\n",
        "        return pred_train, pred_pro, score, history"
      ],
      "execution_count": 23,
      "outputs": []
    },
    {
      "cell_type": "code",
      "metadata": {
        "colab": {
          "base_uri": "https://localhost:8080/"
        },
        "id": "i-zdkPKInLQJ",
        "outputId": "0cbad462-a98c-408c-f184-971b67bf94c8"
      },
      "source": [
        "train_y = pro_train.to_numpy()\n",
        "test_y = pro_test.to_numpy()\n",
        "label_train = np.array(cat_train)\n",
        "label_test = np.array(cat_test)\n",
        "\n",
        "train_x_log = np.log2(gene_train)\n",
        "train_x_log1 = train_x_log.replace(to_replace = np.nan, value =0.00)\n",
        "train_x_log2 = train_x_log1.replace(to_replace =-math.inf, value =0.0000)\n",
        "arr = []\n",
        "for i in np.arange(train_x_log2.shape[1]):\n",
        "  idx = (train_x_log2.iloc[:,i]==0.0)\n",
        "  arr.append(len(train_x_log2.iloc[:,i][idx]))\n",
        "arr_idx = []\n",
        "for i in np.arange(train_x_log2.shape[1]):\n",
        "  if arr[i] <= 3000:\n",
        "    arr_idx.append(train_x_log2.columns[i])\n",
        "train_x_log3 = train_x_log2[arr_idx][:][:-2]\n",
        "val_x_log = np.log2(gene_test)\n",
        "val_x_log1 = val_x_log.replace(to_replace =-math.inf, value =0.0000)\n",
        "val_x_log2 = val_x_log1.replace(to_replace = np.nan, value =0.00)\n",
        "val_x_log3 = val_x_log2[arr_idx]\n",
        "val_x_log3 = val_x_log3[:][:-1]\n",
        "test_y = test_y[:-1][:]\n",
        "train_y = train_y[:-2][:]\n",
        "label_test = label_test[:-1][:]\n",
        "label_train = label_train[:-2][:]\n",
        "pred_train, pred_pro, score, history = model(train_x_log3, train_y, label_train, val_x_log3, test_y, label_test)"
      ],
      "execution_count": 24,
      "outputs": [
        {
          "output_type": "stream",
          "text": [
            "/usr/local/lib/python3.7/dist-packages/ipykernel_launcher.py:6: RuntimeWarning: divide by zero encountered in log2\n",
            "  \n",
            "/usr/local/lib/python3.7/dist-packages/ipykernel_launcher.py:18: RuntimeWarning: divide by zero encountered in log2\n"
          ],
          "name": "stderr"
        },
        {
          "output_type": "stream",
          "text": [
            "Train on 5736 samples, validate on 672 samples\n",
            "Epoch 1/10\n",
            "5736/5736 [==============================] - ETA: 0s - loss: 0.7822 - m_rna_loss: 6.8533 - pro_loss: 0.5205 - cl_cancer_loss: 0.8270 - m_rna_contractive_loss: 6.8533 - m_rna_mean_squared_error: 6.8070 - m_rna_mean_absolute_error: 1.8212 - pro_mean_absolute_error: 0.4919 - pro_mean_squared_error: 0.5205 - cl_cancer_acc: 0.8159"
          ],
          "name": "stdout"
        },
        {
          "output_type": "stream",
          "text": [
            "/usr/local/lib/python3.7/dist-packages/tensorflow/python/keras/engine/training.py:2325: UserWarning: `Model.state_updates` will be removed in a future version. This property should not be used in TensorFlow 2.0, as `updates` are applied automatically.\n",
            "  warnings.warn('`Model.state_updates` will be removed in a future version. '\n"
          ],
          "name": "stderr"
        },
        {
          "output_type": "stream",
          "text": [
            "\b\b\b\b\b\b\b\b\b\b\b\b\b\b\b\b\b\b\b\b\b\b\b\b\b\b\b\b\b\b\b\b\b\b\b\b\b\b\b\b\b\b\b\b\b\b\b\b\b\b\b\b\b\b\b\b\b\b\b\b\b\b\b\b\b\b\b\b\b\b\b\b\b\b\b\b\b\b\b\b\b\b\b\b\b\b\b\b\b\b\b\b\b\b\b\b\b\b\b\b\b\b\b\b\b\b\b\b\b\b\b\b\b\b\b\b\b\b\b\b\b\b\b\b\b\b\b\b\b\b\b\b\b\b\b\b\b\b\b\b\b\b\b\b\b\b\b\b\b\b\b\b\b\b\b\b\b\b\b\b\b\b\b\b\b\b\b\b\b\b\b\b\b\b\b\b\b\b\b\b\b\b\b\b\b\b\b\b\b\b\b\b\b\b\b\b\b\b\b\b\b\b\b\b\b\b\b\b\b\b\b\b\b\b\b\b\b\b\b\b\b\b\b\b\b\b\b\b\b\b\b\b\b\b\b\b\b\b\b\b\b\b\b\b\b\b\b\b\b\b\b\b\b\b\b\b\b\b\b\b\b\b\b\b\b\b\b\b\b\b\b\b\b\b\b\b\b\b\b\b\b\b\b\b\b\b\b\b\b\b\b\b\b\b\b\b\b\b\b\b\b\b\b\b\b\b\b\b\b\b\b\b\b\b\b\b\b\b\b\b\b\b\b\b\b\b\b\r5736/5736 [==============================] - 168s 29ms/sample - loss: 0.7822 - m_rna_loss: 6.8533 - pro_loss: 0.5205 - cl_cancer_loss: 0.8270 - m_rna_contractive_loss: 6.8533 - m_rna_mean_squared_error: 6.8070 - m_rna_mean_absolute_error: 1.8212 - pro_mean_absolute_error: 0.4919 - pro_mean_squared_error: 0.5205 - cl_cancer_acc: 0.8159 - val_loss: 0.5036 - val_m_rna_loss: 6.2460 - val_pro_loss: 0.3987 - val_cl_cancer_loss: 0.3427 - val_m_rna_contractive_loss: 6.2460 - val_m_rna_mean_squared_error: 5.9202 - val_m_rna_mean_absolute_error: 1.6255 - val_pro_mean_absolute_error: 0.4170 - val_pro_mean_squared_error: 0.3987 - val_cl_cancer_acc: 0.9286\n",
            "Epoch 2/10\n",
            "5736/5736 [==============================] - 157s 27ms/sample - loss: 0.4641 - m_rna_loss: 5.7903 - pro_loss: 0.4079 - cl_cancer_loss: 0.3083 - m_rna_contractive_loss: 5.7903 - m_rna_mean_squared_error: 5.6922 - m_rna_mean_absolute_error: 1.5639 - pro_mean_absolute_error: 0.4268 - pro_mean_squared_error: 0.4079 - cl_cancer_acc: 0.9224 - val_loss: 0.4316 - val_m_rna_loss: 5.6077 - val_pro_loss: 0.3771 - val_cl_cancer_loss: 0.2646 - val_m_rna_contractive_loss: 5.6077 - val_m_rna_mean_squared_error: 5.3837 - val_m_rna_mean_absolute_error: 1.4828 - val_pro_mean_absolute_error: 0.4081 - val_pro_mean_squared_error: 0.3771 - val_cl_cancer_acc: 0.9420\n",
            "Epoch 3/10\n",
            "5736/5736 [==============================] - 157s 27ms/sample - loss: 0.3936 - m_rna_loss: 5.5165 - pro_loss: 0.3932 - cl_cancer_loss: 0.1962 - m_rna_contractive_loss: 5.5165 - m_rna_mean_squared_error: 5.3909 - m_rna_mean_absolute_error: 1.4887 - pro_mean_absolute_error: 0.4190 - pro_mean_squared_error: 0.3932 - cl_cancer_acc: 0.9419 - val_loss: 0.3969 - val_m_rna_loss: 5.3590 - val_pro_loss: 0.3724 - val_cl_cancer_loss: 0.2206 - val_m_rna_contractive_loss: 5.3590 - val_m_rna_mean_squared_error: 5.1687 - val_m_rna_mean_absolute_error: 1.4329 - val_pro_mean_absolute_error: 0.4059 - val_pro_mean_squared_error: 0.3724 - val_cl_cancer_acc: 0.9449\n",
            "Epoch 4/10\n",
            "5736/5736 [==============================] - 156s 27ms/sample - loss: 0.3582 - m_rna_loss: 5.2963 - pro_loss: 0.3868 - cl_cancer_loss: 0.1482 - m_rna_contractive_loss: 5.2963 - m_rna_mean_squared_error: 5.1562 - m_rna_mean_absolute_error: 1.4358 - pro_mean_absolute_error: 0.4152 - pro_mean_squared_error: 0.3868 - cl_cancer_acc: 0.9540 - val_loss: 0.3986 - val_m_rna_loss: 5.2977 - val_pro_loss: 0.3653 - val_cl_cancer_loss: 0.2308 - val_m_rna_contractive_loss: 5.2977 - val_m_rna_mean_squared_error: 5.0912 - val_m_rna_mean_absolute_error: 1.4141 - val_pro_mean_absolute_error: 0.4022 - val_pro_mean_squared_error: 0.3653 - val_cl_cancer_acc: 0.9390\n",
            "Epoch 5/10\n",
            "5736/5736 [==============================] - 156s 27ms/sample - loss: 0.3422 - m_rna_loss: 5.2606 - pro_loss: 0.3806 - cl_cancer_loss: 0.1203 - m_rna_contractive_loss: 5.2606 - m_rna_mean_squared_error: 5.1129 - m_rna_mean_absolute_error: 1.4201 - pro_mean_absolute_error: 0.4120 - pro_mean_squared_error: 0.3806 - cl_cancer_acc: 0.9615 - val_loss: 0.4019 - val_m_rna_loss: 5.2689 - val_pro_loss: 0.3603 - val_cl_cancer_loss: 0.2409 - val_m_rna_contractive_loss: 5.2689 - val_m_rna_mean_squared_error: 5.0493 - val_m_rna_mean_absolute_error: 1.4006 - val_pro_mean_absolute_error: 0.3995 - val_pro_mean_squared_error: 0.3603 - val_cl_cancer_acc: 0.9345\n",
            "Epoch 6/10\n",
            "5736/5736 [==============================] - 157s 27ms/sample - loss: 0.3279 - m_rna_loss: 5.2484 - pro_loss: 0.3766 - cl_cancer_loss: 0.0934 - m_rna_contractive_loss: 5.2484 - m_rna_mean_squared_error: 5.0969 - m_rna_mean_absolute_error: 1.4142 - pro_mean_absolute_error: 0.4094 - pro_mean_squared_error: 0.3766 - cl_cancer_acc: 0.9735 - val_loss: 0.3895 - val_m_rna_loss: 5.2506 - val_pro_loss: 0.3581 - val_cl_cancer_loss: 0.2181 - val_m_rna_contractive_loss: 5.2506 - val_m_rna_mean_squared_error: 5.0588 - val_m_rna_mean_absolute_error: 1.4023 - val_pro_mean_absolute_error: 0.3974 - val_pro_mean_squared_error: 0.3581 - val_cl_cancer_acc: 0.9449\n",
            "Epoch 7/10\n",
            "5736/5736 [==============================] - 156s 27ms/sample - loss: 0.3220 - m_rna_loss: 5.2293 - pro_loss: 0.3750 - cl_cancer_loss: 0.0835 - m_rna_contractive_loss: 5.2293 - m_rna_mean_squared_error: 5.0835 - m_rna_mean_absolute_error: 1.4085 - pro_mean_absolute_error: 0.4079 - pro_mean_squared_error: 0.3750 - cl_cancer_acc: 0.9766 - val_loss: 0.3846 - val_m_rna_loss: 5.1869 - val_pro_loss: 0.3566 - val_cl_cancer_loss: 0.2149 - val_m_rna_contractive_loss: 5.1869 - val_m_rna_mean_squared_error: 5.0199 - val_m_rna_mean_absolute_error: 1.3870 - val_pro_mean_absolute_error: 0.3957 - val_pro_mean_squared_error: 0.3566 - val_cl_cancer_acc: 0.9375\n",
            "Epoch 8/10\n",
            "5736/5736 [==============================] - 154s 27ms/sample - loss: 0.3122 - m_rna_loss: 5.2232 - pro_loss: 0.3716 - cl_cancer_loss: 0.0649 - m_rna_contractive_loss: 5.2232 - m_rna_mean_squared_error: 5.0733 - m_rna_mean_absolute_error: 1.4039 - pro_mean_absolute_error: 0.4061 - pro_mean_squared_error: 0.3716 - cl_cancer_acc: 0.9806 - val_loss: 0.3862 - val_m_rna_loss: 5.1618 - val_pro_loss: 0.3542 - val_cl_cancer_loss: 0.2208 - val_m_rna_contractive_loss: 5.1618 - val_m_rna_mean_squared_error: 4.9867 - val_m_rna_mean_absolute_error: 1.3775 - val_pro_mean_absolute_error: 0.3948 - val_pro_mean_squared_error: 0.3542 - val_cl_cancer_acc: 0.9449\n",
            "Epoch 9/10\n",
            "5736/5736 [==============================] - 154s 27ms/sample - loss: 0.3048 - m_rna_loss: 5.2034 - pro_loss: 0.3700 - cl_cancer_loss: 0.0522 - m_rna_contractive_loss: 5.2034 - m_rna_mean_squared_error: 5.0635 - m_rna_mean_absolute_error: 1.4005 - pro_mean_absolute_error: 0.4047 - pro_mean_squared_error: 0.3700 - cl_cancer_acc: 0.9862 - val_loss: 0.3974 - val_m_rna_loss: 5.1920 - val_pro_loss: 0.3518 - val_cl_cancer_loss: 0.2403 - val_m_rna_contractive_loss: 5.1920 - val_m_rna_mean_squared_error: 5.0323 - val_m_rna_mean_absolute_error: 1.3930 - val_pro_mean_absolute_error: 0.3935 - val_pro_mean_squared_error: 0.3518 - val_cl_cancer_acc: 0.9435\n",
            "Epoch 10/10\n",
            "5736/5736 [==============================] - 154s 27ms/sample - loss: 0.3029 - m_rna_loss: 5.1924 - pro_loss: 0.3682 - cl_cancer_loss: 0.0497 - m_rna_contractive_loss: 5.1924 - m_rna_mean_squared_error: 5.0566 - m_rna_mean_absolute_error: 1.3978 - pro_mean_absolute_error: 0.4035 - pro_mean_squared_error: 0.3682 - cl_cancer_acc: 0.9854 - val_loss: 0.3802 - val_m_rna_loss: 5.1207 - val_pro_loss: 0.3516 - val_cl_cancer_loss: 0.2132 - val_m_rna_contractive_loss: 5.1207 - val_m_rna_mean_squared_error: 4.9842 - val_m_rna_mean_absolute_error: 1.3739 - val_pro_mean_absolute_error: 0.3924 - val_pro_mean_squared_error: 0.3516 - val_cl_cancer_acc: 0.9390\n"
          ],
          "name": "stdout"
        }
      ]
    },
    {
      "cell_type": "code",
      "metadata": {
        "id": "Gc8Ah1CtNEBE",
        "colab": {
          "base_uri": "https://localhost:8080/"
        },
        "outputId": "805ef68f-6666-46a3-c5e2-b4ffeba8a97f"
      },
      "source": [
        "def GetAverageRank(test, predict):\n",
        "    p = predict\n",
        "    rank  = 0\n",
        "    for k in range(len(p)):\n",
        "        temp = np.vstack((test, p[k]))\n",
        "        for i in range(temp.shape[0]):\n",
        "            temp[i] = np.subtract(temp[i], test[k])\n",
        "        temp = np.square(temp)\n",
        "        sum = temp.sum(axis = 1)\n",
        "        arr = []\n",
        "        for i in range(len(sum)):\n",
        "            arr.append((sum[i], i))\n",
        "        arr = sorted(arr, key=lambda x: x[0])\n",
        "        for i in range(len(arr)):\n",
        "            if arr[i][1] == len(p):\n",
        "                rank += i\n",
        "                break\n",
        "    rank /= len(p)\n",
        "    return rank\n",
        "\n",
        "print(GetAverageRank(test_y,pred_pro[1]))"
      ],
      "execution_count": 25,
      "outputs": [
        {
          "output_type": "stream",
          "text": [
            "13.302083333333334\n"
          ],
          "name": "stdout"
        }
      ]
    },
    {
      "cell_type": "code",
      "metadata": {
        "id": "SJ2Gw4PSahwj",
        "colab": {
          "base_uri": "https://localhost:8080/"
        },
        "outputId": "edb0fdc1-d893-40ea-c6eb-bbcf618fe60f"
      },
      "source": [
        "print(\"Eval Metrics for Test Set\")\n",
        "print(\"explained_variance_score\", explained_variance_score(test_y, pred_pro[1]))\n",
        "print(\"median_absolute_error\", median_absolute_error(test_y, pred_pro[1]))\n",
        "print(\"r2_score\", r2_score(test_y, pred_pro[1]))\n",
        "print(\"RMSE\", sqrt(mean_squared_error(test_y, pred_pro[1])))\n",
        "print(\"mean_absolute_error\", mean_absolute_error(test_y, pred_pro[1]))\n",
        "print(\"mean_squared_error\", mean_squared_error(test_y, pred_pro[1]))"
      ],
      "execution_count": 26,
      "outputs": [
        {
          "output_type": "stream",
          "text": [
            "Eval Metrics for Test Set\n",
            "explained_variance_score 0.2045691415092944\n",
            "median_absolute_error 0.3157692093854685\n",
            "r2_score 0.14237414276367616\n",
            "RMSE 0.592986133741898\n",
            "mean_absolute_error 0.3923536679655552\n",
            "mean_squared_error 0.3516325548101642\n"
          ],
          "name": "stdout"
        }
      ]
    },
    {
      "cell_type": "code",
      "metadata": {
        "id": "rUftL5P6a2WR",
        "colab": {
          "base_uri": "https://localhost:8080/"
        },
        "outputId": "c7e740a5-836f-4f46-ee55-1df8b80b036f"
      },
      "source": [
        "print(\"Eval Metrics for Train Set\")\n",
        "print(\"explained_variance_score\", explained_variance_score(train_y,pred_train[1]))\n",
        "print(\"median_absolute_error\", median_absolute_error(train_y,pred_train[1]))\n",
        "print(\"r2_score\", r2_score(train_y,pred_train[1]))\n",
        "print(\"RMSE\", sqrt(mean_squared_error(train_y,pred_train[1])))\n",
        "print(\"mean_absolute_error\", mean_absolute_error(train_y,pred_train[1]))\n",
        "print(\"mean_squared_error\", mean_squared_error(train_y,pred_train[1]))"
      ],
      "execution_count": 27,
      "outputs": [
        {
          "output_type": "stream",
          "text": [
            "Eval Metrics for Train Set\n",
            "explained_variance_score 0.21552958374843476\n",
            "median_absolute_error 0.31883622886481333\n",
            "r2_score 0.1487952397423933\n",
            "RMSE 0.5940396588755869\n",
            "mean_absolute_error 0.39391347570969837\n",
            "mean_squared_error 0.35288311631702357\n"
          ],
          "name": "stdout"
        }
      ]
    },
    {
      "cell_type": "code",
      "metadata": {
        "colab": {
          "base_uri": "https://localhost:8080/",
          "height": 281
        },
        "id": "EMJq_20Ll0Vt",
        "outputId": "5c737984-9537-4277-8e57-a1459e125fea"
      },
      "source": [
        "pyplot.plot(history.history['cl_cancer_acc'], color = 'green', label = 'classifier_acc')\n",
        "pyplot.xlabel=\"epoch\"\n",
        "pyplot.plot(history.history['val_cl_cancer_acc'], color = 'red', label = \"val_classifier_acc\")\n",
        "\n",
        "pyplot.plot(history.history['cl_cancer_loss'], color = 'Blue', label = \"classifier_loss\")\n",
        "pyplot.plot(history.history['val_cl_cancer_loss'], color = 'yellow', label = \"val_classifier_loss\")\n",
        "\n",
        "pyplot.title('Accuracy')\n",
        "pyplot.legend()\n",
        "pyplot.savefig(\"plot_acc.png\")"
      ],
      "execution_count": 28,
      "outputs": [
        {
          "output_type": "display_data",
          "data": {
            "image/png": "[encoded data removed]",
            "text/plain": [
              "<Figure size 432x288 with 1 Axes>"
            ]
          },
          "metadata": {
            "tags": [],
            "needs_background": "light"
          }
        }
      ]
    },
    {
      "cell_type": "code",
      "metadata": {
        "colab": {
          "base_uri": "https://localhost:8080/",
          "height": 281
        },
        "id": "abQDZxpBmBdw",
        "outputId": "5e6e0ac5-95d0-4274-d88f-79c1a59fc3ce"
      },
      "source": [
        "pyplot.plot(history.history['pro_loss'], color = 'green', label = 'pro_loss')\n",
        "pyplot.xlabel=\"epoch\"\n",
        "pyplot.plot(history.history['val_pro_loss'], color = 'red', label = \"val_pro_loss\")\n",
        "pyplot.plot(history.history['pro_mean_absolute_error'], color = 'black', label = 'pro_mean_absolute_error')\n",
        "pyplot.plot(history.history['val_pro_mean_absolute_error'], color = 'yellow', label = 'val_pro_mean_absolute_error')\n",
        "pyplot.title('Loss')\n",
        "pyplot.legend()\n",
        "pyplot.savefig(\"plot_loss.png\")"
      ],
      "execution_count": 29,
      "outputs": [
        {
          "output_type": "display_data",
          "data": {
            "image/png": "[encoded data removed]",
            "text/plain": [
              "<Figure size 432x288 with 1 Axes>"
            ]
          },
          "metadata": {
            "tags": [],
            "needs_background": "light"
          }
        }
      ]
    }
  ]
}