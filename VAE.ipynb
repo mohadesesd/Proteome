{
  "nbformat": 4,
  "nbformat_minor": 0,
  "metadata": {
    "colab": {
      "name": "VAE.ipynb",
      "provenance": [],
      "collapsed_sections": []
    },
    "kernelspec": {
      "display_name": "Python 3",
      "name": "python3"
    }
  },
  "cells": [
    {
      "cell_type": "code",
      "metadata": {
        "id": "zl0ZjU1BVw1y",
        "colab": {
          "base_uri": "https://localhost:8080/"
        },
        "outputId": "80f5d4ba-7ff7-47cc-c8c3-cfbb76d1c0c8"
      },
      "source": [
        "!pip install -U -q PyDrive\n",
        "from pydrive.auth import GoogleAuth\n",
        "from pydrive.drive import GoogleDrive\n",
        "from google.colab import auth\n",
        "from oauth2client.client import GoogleCredentials# Authenticate and create the PyDrive client.\n",
        "import pandas as pd\n",
        "from matplotlib import pyplot\n",
        "from keras.layers import Input, Dense, BatchNormalization, Lambda, GaussianNoise, GaussianDropout\n",
        "from keras.models import Model\n",
        "import keras.backend as backend\n",
        "import numpy as np\n",
        "import keras\n",
        "from sklearn.preprocessing import LabelEncoder, normalize\n",
        "from keras.utils import np_utils\n",
        "import pandas as pd\n",
        "import tensorflow.compat.v1 as tf\n",
        "tf.disable_v2_behavior()\n",
        "import time\n",
        "import math\n",
        "from sklearn.metrics import mean_squared_error,median_absolute_error,mean_absolute_error,explained_variance_score,r2_score\n",
        "from math import sqrt\n",
        "import keras.utils as np_utils\n",
        "from sklearn.preprocessing import LabelEncoder\n",
        "import numpy as np"
      ],
      "execution_count": 1,
      "outputs": [
        {
          "output_type": "stream",
          "text": [
            "WARNING:tensorflow:From /usr/local/lib/python3.7/dist-packages/tensorflow/python/compat/v2_compat.py:96: disable_resource_variables (from tensorflow.python.ops.variable_scope) is deprecated and will be removed in a future version.\n",
            "Instructions for updating:\n",
            "non-resource variables are not supported in the long term\n"
          ],
          "name": "stdout"
        }
      ]
    },
    {
      "cell_type": "code",
      "metadata": {
        "id": "81suZoTimVbL"
      },
      "source": [
        "auth.authenticate_user()\n",
        "gauth = GoogleAuth()\n",
        "gauth.credentials = GoogleCredentials.get_application_default()\n",
        "drive = GoogleDrive(gauth)"
      ],
      "execution_count": 2,
      "outputs": []
    },
    {
      "cell_type": "code",
      "metadata": {
        "id": "DAKzqYAOWMqT"
      },
      "source": [
        "id = \"1uiIMbheUVJK82LMshquFhDAQW8vAE6Dt\"\n",
        "downloaded = drive.CreateFile({'id':id}) \n",
        "downloaded.GetContentFile('gene.trainset.csv')  \n",
        "gene_1 = pd.read_csv('gene.trainset.csv')"
      ],
      "execution_count": 3,
      "outputs": []
    },
    {
      "cell_type": "code",
      "metadata": {
        "id": "Uwt9rd5_-vt_"
      },
      "source": [
        "gene_train = gene_1.drop(columns = [\"Cancer_Type\", \"Sample_ID\"])"
      ],
      "execution_count": 4,
      "outputs": []
    },
    {
      "cell_type": "code",
      "metadata": {
        "id": "AoTu67epXiGt"
      },
      "source": [
        "id = \"1MCvPmLzJnMq-DM9ch0MS7B3btv7RN3QO\"\n",
        "downloaded = drive.CreateFile({'id':id}) \n",
        "downloaded.GetContentFile('gene.val.csv')  \n",
        "gene_2 = pd.read_csv('gene.val.csv')"
      ],
      "execution_count": 5,
      "outputs": []
    },
    {
      "cell_type": "code",
      "metadata": {
        "id": "inBO2lUh-204"
      },
      "source": [
        "gene_test = gene_2.drop(columns = [\"Cancer_Type\", \"Sample_ID\"])"
      ],
      "execution_count": 6,
      "outputs": []
    },
    {
      "cell_type": "code",
      "metadata": {
        "id": "x4xiH2Hn-5vB"
      },
      "source": [
        "id = '1ZhpxOI75zZBBJMRu4supVZzWzGmoFUaR'\n",
        "downloaded = drive.CreateFile({'id':id}) \n",
        "downloaded.GetContentFile('pro.trainset.csv')  \n",
        "pro1 = pd.read_csv('pro.trainset.csv')"
      ],
      "execution_count": 7,
      "outputs": []
    },
    {
      "cell_type": "code",
      "metadata": {
        "id": "P0ncJRbV-8_P"
      },
      "source": [
        "lable_train = list(pro1.Cancer_Type)\n",
        "pro_train = pro1.drop(columns = [\"Cancer_Type\", \"Sample_ID\"])"
      ],
      "execution_count": 8,
      "outputs": []
    },
    {
      "cell_type": "code",
      "metadata": {
        "id": "4UT3DVK5_BpA"
      },
      "source": [
        "id = '1Mof6HE8iPsGB5-ZzXvE8pulizup1EVjM'\n",
        "downloaded = drive.CreateFile({'id':id}) \n",
        "downloaded.GetContentFile('pro.val.csv')  \n",
        "pro2 = pd.read_csv('pro.val.csv')"
      ],
      "execution_count": 9,
      "outputs": []
    },
    {
      "cell_type": "code",
      "metadata": {
        "id": "PjWAphSp_CeN"
      },
      "source": [
        "lable_test = list(pro2.Cancer_Type)\n",
        "pro_test = pro2.drop(columns = [\"Cancer_Type\", \"Sample_ID\"])"
      ],
      "execution_count": 10,
      "outputs": []
    },
    {
      "cell_type": "code",
      "metadata": {
        "id": "L3rsf-XGX-qp"
      },
      "source": [
        "le = LabelEncoder()\n",
        "lable1 = np.ravel(lable_train)\n",
        "le.fit(lable1)\n",
        "lable1 = le.transform(lable1)\n",
        "\n",
        "le = LabelEncoder()\n",
        "lable2 = np.ravel(lable_test)\n",
        "le.fit(lable2)\n",
        "lable2 = le.transform(lable2)\n"
      ],
      "execution_count": 11,
      "outputs": []
    },
    {
      "cell_type": "code",
      "metadata": {
        "id": "DxQmmO8rYClc"
      },
      "source": [
        "cat1 = np_utils.to_categorical(lable1)\n",
        "cat1 = pd.DataFrame({'tag' + str(i) : cat1[:, i]for i in range(len(cat1[0]))})\n",
        "cat_train = cat1[:gene_train.shape[0]]\n",
        "\n",
        "cat2 = np_utils.to_categorical(lable2)\n",
        "cat2 = pd.DataFrame({'tag' + str(i) : cat2[:, i]for i in range(len(cat2[0]))})\n",
        "cat_test = cat2[:gene_test.shape[0]]"
      ],
      "execution_count": 12,
      "outputs": []
    },
    {
      "cell_type": "code",
      "metadata": {
        "id": "p1o41r2VZxm1"
      },
      "source": [
        "def model(m_rna_train, pro_train,label_train, m_rna_test, pro_test, label_test):\n",
        "        \"\"\"\n",
        "        We conducted an architecture of Variational Autoencoder that is capable of simultaneous inference of various properties of biological samples, \n",
        "        through multi-task and transfer learning. It encodes the whole transcription profile into a strikingly low-dimensional latent vector of size 24, and then \n",
        "        recovers mRNA and protein expression profiles, disease type from this vector. This latent space is significantly better than the original gene \n",
        "        expression profiles for discriminating samples based on their disease. \n",
        "        We employed this architecture on mRNA transcription profiles of 7150 clinical samples from 32 classes.\n",
        "        :param : m_rna_train, pro_train,label_train, m_rna_test, pro_test, label_test\n",
        "        :return: pred_train, pred_pro, score, history\n",
        "        \"\"\"\n",
        "        opt = keras.optimizers.Nadam(learning_rate=1e-3)\n",
        "\n",
        "        inputs = Input(shape=(m_rna_train.shape[1],), name=\"inputs\")\n",
        "        n_z = 24\n",
        "\n",
        "        # Q(z|x) -- encoder\n",
        "        inputs_noise = GaussianNoise(stddev=0.0)(inputs)\n",
        "        drop1 = GaussianDropout(rate=0.5 ** 2 / (1 + 0.5 ** 2))(inputs_noise)\n",
        "        inputs_0 = BatchNormalization(name=\"inputs_0\")(drop1)\n",
        "        inputs_1 = Dense(1024, activation='relu', name=\"inputs_1\")(inputs_0)\n",
        "        inputs_2 = BatchNormalization(name=\"inputs_2\")(inputs_1)\n",
        "        drop2 = GaussianDropout(rate=0.5 ** 2 / (1 + 0.5 ** 2))(inputs_2)\n",
        "        inputs_3 = Dense(512, activation='relu', name=\"inputs_3\")(drop2)\n",
        "        inputs_4 = BatchNormalization(name=\"inputs_4\")(inputs_3)\n",
        "        drop3 = GaussianDropout(rate=0.5 ** 2 / (1 + 0.5 ** 2))(inputs_4)\n",
        "        inputs_5 = Dense(128, activation='relu', name=\"inputs_5\")(inputs_4)\n",
        "        inputs_6= BatchNormalization(name=\"inputs_6\")(inputs_5)\n",
        "        drop4 = GaussianDropout(rate=0.5 ** 2 / (1 + 0.5 ** 2))(inputs_6)\n",
        "\n",
        "\n",
        "        h_q = Dense(n_z, activation=\"relu\", name=\"h_q\")(drop4)\n",
        "        mu = Dense(n_z, activation=None, name=\"mu\")(h_q)\n",
        "        log_sigma = Dense(n_z, activation=None, name=\"log_sigma\")(h_q)\n",
        "\n",
        "        def sample_z(args):\n",
        "            mu_samples, log_sigma_sample = args\n",
        "            eps = backend.random_normal(shape=(24, n_z), mean=0., stddev=1.)\n",
        "            return mu_samples + backend.exp(log_sigma_sample / 2) * eps\n",
        "\n",
        "        # Sample z ~ Q(z|x)\n",
        "        z = Lambda(sample_z, name=\"lambda\")([mu, log_sigma])\n",
        "\n",
        "        # P(x|z) -- decoder\n",
        "        decoder_hidden = Dense(24, activation='linear', name=\"decoder_hidden\")\n",
        "\n",
        "        # Decoder of Gene Expression Profile\n",
        "        h_p = decoder_hidden(z)\n",
        "        inputs_7 = BatchNormalization(name=\"inputs_7\")(h_p)\n",
        "        inputs_8 = Dense(256, activation='relu', name=\"inputs_8\")(inputs_7)\n",
        "        inputs_9 = BatchNormalization(name=\"inputs_9\")(inputs_8)\n",
        "        drop5 = GaussianDropout(rate=0.5 ** 2 / (1 + 0.5 ** 2))(inputs_9)\n",
        "        inputs_11 = Dense(512, activation='relu', name=\"inputs_11\")(drop5)\n",
        "        inputs_12 = BatchNormalization(name=\"inputs_12\")(inputs_11)\n",
        "        drop6 = GaussianDropout(rate=0.5 ** 2 / (1 + 0.5 ** 2))(inputs_12)\n",
        "        inputs_14 = Dense(1024, activation='relu', name=\"inputs_14\")(drop6)\n",
        "        inputs_15 = BatchNormalization(name=\"inputs_15\")(inputs_14)\n",
        "        drop7 = GaussianDropout(rate=0.5 ** 2 / (1 + 0.5 ** 2))(inputs_15)\n",
        "        output_tcga = Dense(m_rna_train.shape[1], activation='relu', name=\"m_rna\")(drop7)\n",
        "\n",
        "        # Decoder of Protein Expression Profile\n",
        "        inputs_16 = BatchNormalization(name=\"inputs_16\")(h_p)\n",
        "        inputs_17 = Dense(64, activation='relu', name=\"inputs_17\")(inputs_16)\n",
        "        inputs_18 = BatchNormalization(name=\"inputs_18\")(inputs_17)\n",
        "        drop8 = GaussianDropout(rate=0.5 ** 2 / (1 + 0.5 ** 2))(inputs_18)\n",
        "        inputs_19 = Dense(128, activation='relu', name=\"inputs_19\")(drop8)\n",
        "        inputs_20 = BatchNormalization(name=\"inputs_20\")(inputs_19)\n",
        "        drop9 = GaussianDropout(rate=0.5 ** 2 / (1 + 0.5 ** 2))(inputs_20)\n",
        "        output_pro = Dense(pro_train.shape[1], activation='relu', name=\"pro\")(drop9)\n",
        "\n",
        "        # Classifier\n",
        "        output_cl_0 = Dense(32, activation=\"softmax\", name=\"cl_cancer\")(h_p)\n",
        "\n",
        "\n",
        "        lambda_value = 2.5596e-6\n",
        "\n",
        "        def vae_loss(y_true, y_pred):\n",
        "            \"\"\" Calculate loss = reconstruction loss + KL loss for each data_pred in minibatch \"\"\"\n",
        "            # E[log P(x|z)]\n",
        "            recon = backend.mean(backend.square(y_true - y_pred), axis=1)\n",
        "            # D_KL(Q(z|x) || P(z|x)); calculate in closed form as both dist. are Gaussian\n",
        "            kl = 0.5 * backend.sum(backend.exp(log_sigma) + backend.square(mu) - 1. - log_sigma, axis=1)\n",
        "\n",
        "            return recon + lambda_value * kl\n",
        "\n",
        "        svae = Model(inputs, [output_tcga, output_pro, output_cl_0])\n",
        "\n",
        "        svae.compile(optimizer='nadam',\n",
        "                     loss=[vae_loss, \"mse\", \"categorical_crossentropy\"],\n",
        "                     loss_weights=[5e-2, 5e-2, 5e-1],\n",
        "                     metrics={\"m_rna\":[vae_loss, \"mse\", \"mae\"], \"pro\": [\"mae\", \"mse\"], \"cl_cancer\": \"acc\"})\n",
        "        \n",
        "        \n",
        "        history = svae.fit([m_rna_train], [m_rna_train, pro_train, label_train],\n",
        "                 batch_size=24, epochs=10, verbose=1, validation_data = (m_rna_test, [m_rna_test, pro_test, label_test]))\n",
        "        score = svae.evaluate(m_rna_test, [m_rna_test, pro_test, label_test], verbose=1,\n",
        "                              batch_size=24)\n",
        "        pred_pro = svae.predict(m_rna_test, verbose=1,\n",
        "                              batch_size=24)\n",
        "        pred_train = svae.predict(m_rna_train, verbose=1,\n",
        "                              batch_size=24)\n",
        "        return pred_train, pred_pro, score, history"
      ],
      "execution_count": 13,
      "outputs": []
    },
    {
      "cell_type": "code",
      "metadata": {
        "colab": {
          "base_uri": "https://localhost:8080/"
        },
        "id": "i-zdkPKInLQJ",
        "outputId": "123b0c6f-8480-45fc-b49b-be2c6ece70ec"
      },
      "source": [
        "train_y = pro_train.to_numpy()\n",
        "test_y = pro_test.to_numpy()\n",
        "label_train = np.array(cat_train)\n",
        "label_test = np.array(cat_test)\n",
        "\n",
        "train_x_log = np.log2(gene_train)\n",
        "train_x_log1 = train_x_log.replace(to_replace = np.nan, value =0.00)\n",
        "train_x_log2 = train_x_log1.replace(to_replace =-math.inf, value =0.0000)\n",
        "arr = []\n",
        "for i in np.arange(train_x_log2.shape[1]):\n",
        "  idx = (train_x_log2.iloc[:,i]==0.0)\n",
        "  arr.append(len(train_x_log2.iloc[:,i][idx]))\n",
        "arr_idx = []\n",
        "for i in np.arange(train_x_log2.shape[1]):\n",
        "  if arr[i] <= 3000:\n",
        "    arr_idx.append(train_x_log2.columns[i])\n",
        "train_x_log3 = train_x_log2[arr_idx][:][:-2]\n",
        "val_x_log = np.log2(gene_test)\n",
        "val_x_log1 = val_x_log.replace(to_replace =-math.inf, value =0.0000)\n",
        "val_x_log2 = val_x_log1.replace(to_replace = np.nan, value =0.00)\n",
        "val_x_log3 = val_x_log2[arr_idx]\n",
        "val_x_log3 = val_x_log3[:][:-1]\n",
        "test_y = test_y[:-1][:]\n",
        "train_y = train_y[:-2][:]\n",
        "label_test = label_test[:-1][:]\n",
        "label_train = label_train[:-2][:]\n",
        "pred_train, pred_pro, score, history = model(train_x_log3, train_y, label_train, val_x_log3, test_y, label_test)"
      ],
      "execution_count": 14,
      "outputs": [
        {
          "output_type": "stream",
          "text": [
            "/usr/local/lib/python3.7/dist-packages/ipykernel_launcher.py:6: RuntimeWarning: divide by zero encountered in log2\n",
            "  \n",
            "/usr/local/lib/python3.7/dist-packages/ipykernel_launcher.py:18: RuntimeWarning: divide by zero encountered in log2\n"
          ],
          "name": "stderr"
        },
        {
          "output_type": "stream",
          "text": [
            "Train on 5736 samples, validate on 672 samples\n",
            "Epoch 1/10\n",
            "5736/5736 [==============================] - ETA: 0s - loss: 0.9303 - m_rna_loss: 6.8152 - pro_loss: 0.5366 - cl_cancer_loss: 1.1254 - m_rna_vae_loss: 6.8152 - m_rna_mean_squared_error: 6.8150 - m_rna_mean_absolute_error: 1.8184 - pro_mean_absolute_error: 0.4987 - pro_mean_squared_error: 0.5366 - cl_cancer_acc: 0.7083"
          ],
          "name": "stdout"
        },
        {
          "output_type": "stream",
          "text": [
            "/usr/local/lib/python3.7/dist-packages/tensorflow/python/keras/engine/training.py:2325: UserWarning: `Model.state_updates` will be removed in a future version. This property should not be used in TensorFlow 2.0, as `updates` are applied automatically.\n",
            "  warnings.warn('`Model.state_updates` will be removed in a future version. '\n"
          ],
          "name": "stderr"
        },
        {
          "output_type": "stream",
          "text": [
            "\b\b\b\b\b\b\b\b\b\b\b\b\b\b\b\b\b\b\b\b\b\b\b\b\b\b\b\b\b\b\b\b\b\b\b\b\b\b\b\b\b\b\b\b\b\b\b\b\b\b\b\b\b\b\b\b\b\b\b\b\b\b\b\b\b\b\b\b\b\b\b\b\b\b\b\b\b\b\b\b\b\b\b\b\b\b\b\b\b\b\b\b\b\b\b\b\b\b\b\b\b\b\b\b\b\b\b\b\b\b\b\b\b\b\b\b\b\b\b\b\b\b\b\b\b\b\b\b\b\b\b\b\b\b\b\b\b\b\b\b\b\b\b\b\b\b\b\b\b\b\b\b\b\b\b\b\b\b\b\b\b\b\b\b\b\b\b\b\b\b\b\b\b\b\b\b\b\b\b\b\b\b\b\b\b\b\b\b\b\b\b\b\b\b\b\b\b\b\b\b\b\b\b\b\b\b\b\b\b\b\b\b\b\b\b\b\b\b\b\b\b\b\b\b\b\b\b\b\b\b\b\b\b\b\b\b\b\b\b\b\b\b\b\b\b\b\b\b\b\b\b\b\b\b\b\b\b\b\b\b\b\b\b\b\b\b\b\b\b\b\b\b\b\b\b\b\b\b\b\b\b\b\b\b\b\b\b\b\b\b\b\b\b\b\b\b\b\b\b\b\b\b\b\b\b\b\b\b\b\b\b\b\b\b\b\b\b\b\b\r5736/5736 [==============================] - 160s 28ms/sample - loss: 0.9303 - m_rna_loss: 6.8152 - pro_loss: 0.5366 - cl_cancer_loss: 1.1254 - m_rna_vae_loss: 6.8152 - m_rna_mean_squared_error: 6.8150 - m_rna_mean_absolute_error: 1.8184 - pro_mean_absolute_error: 0.4987 - pro_mean_squared_error: 0.5366 - cl_cancer_acc: 0.7083 - val_loss: 0.5272 - val_m_rna_loss: 6.2790 - val_pro_loss: 0.4073 - val_cl_cancer_loss: 0.3858 - val_m_rna_vae_loss: 6.2790 - val_m_rna_mean_squared_error: 6.2783 - val_m_rna_mean_absolute_error: 1.6896 - val_pro_mean_absolute_error: 0.4220 - val_pro_mean_squared_error: 0.4073 - val_cl_cancer_acc: 0.9018\n",
            "Epoch 2/10\n",
            "5736/5736 [==============================] - 159s 28ms/sample - loss: 0.4708 - m_rna_loss: 5.6248 - pro_loss: 0.4083 - cl_cancer_loss: 0.3383 - m_rna_vae_loss: 5.6248 - m_rna_mean_squared_error: 5.6244 - m_rna_mean_absolute_error: 1.5479 - pro_mean_absolute_error: 0.4273 - pro_mean_squared_error: 0.4083 - cl_cancer_acc: 0.9038 - val_loss: 0.4254 - val_m_rna_loss: 5.4185 - val_pro_loss: 0.3818 - val_cl_cancer_loss: 0.2707 - val_m_rna_vae_loss: 5.4185 - val_m_rna_mean_squared_error: 5.4180 - val_m_rna_mean_absolute_error: 1.4990 - val_pro_mean_absolute_error: 0.4101 - val_pro_mean_squared_error: 0.3818 - val_cl_cancer_acc: 0.9315\n",
            "Epoch 3/10\n",
            "5736/5736 [==============================] - 166s 29ms/sample - loss: 0.4013 - m_rna_loss: 5.2956 - pro_loss: 0.3961 - cl_cancer_loss: 0.2334 - m_rna_vae_loss: 5.2956 - m_rna_mean_squared_error: 5.2952 - m_rna_mean_absolute_error: 1.4719 - pro_mean_absolute_error: 0.4201 - pro_mean_squared_error: 0.3961 - cl_cancer_acc: 0.9268 - val_loss: 0.4272 - val_m_rna_loss: 5.2413 - val_pro_loss: 0.3756 - val_cl_cancer_loss: 0.2926 - val_m_rna_vae_loss: 5.2413 - val_m_rna_mean_squared_error: 5.2407 - val_m_rna_mean_absolute_error: 1.4592 - val_pro_mean_absolute_error: 0.4083 - val_pro_mean_squared_error: 0.3756 - val_cl_cancer_acc: 0.9301\n",
            "Epoch 4/10\n",
            "5736/5736 [==============================] - 157s 27ms/sample - loss: 0.3745 - m_rna_loss: 5.1684 - pro_loss: 0.3885 - cl_cancer_loss: 0.1933 - m_rna_vae_loss: 5.1684 - m_rna_mean_squared_error: 5.1679 - m_rna_mean_absolute_error: 1.4383 - pro_mean_absolute_error: 0.4161 - pro_mean_squared_error: 0.3885 - cl_cancer_acc: 0.9390 - val_loss: 0.4074 - val_m_rna_loss: 5.0620 - val_pro_loss: 0.3658 - val_cl_cancer_loss: 0.2720 - val_m_rna_vae_loss: 5.0620 - val_m_rna_mean_squared_error: 5.0614 - val_m_rna_mean_absolute_error: 1.4087 - val_pro_mean_absolute_error: 0.4027 - val_pro_mean_squared_error: 0.3658 - val_cl_cancer_acc: 0.9167\n",
            "Epoch 5/10\n",
            "5736/5736 [==============================] - 159s 28ms/sample - loss: 0.3528 - m_rna_loss: 5.1303 - pro_loss: 0.3817 - cl_cancer_loss: 0.1544 - m_rna_vae_loss: 5.1303 - m_rna_mean_squared_error: 5.1298 - m_rna_mean_absolute_error: 1.4256 - pro_mean_absolute_error: 0.4125 - pro_mean_squared_error: 0.3817 - cl_cancer_acc: 0.9496 - val_loss: 0.4124 - val_m_rna_loss: 5.0880 - val_pro_loss: 0.3642 - val_cl_cancer_loss: 0.2797 - val_m_rna_vae_loss: 5.0880 - val_m_rna_mean_squared_error: 5.0874 - val_m_rna_mean_absolute_error: 1.4132 - val_pro_mean_absolute_error: 0.4012 - val_pro_mean_squared_error: 0.3642 - val_cl_cancer_acc: 0.9211\n",
            "Epoch 6/10\n",
            "5736/5736 [==============================] - 159s 28ms/sample - loss: 0.3302 - m_rna_loss: 5.1119 - pro_loss: 0.3777 - cl_cancer_loss: 0.1114 - m_rna_vae_loss: 5.1119 - m_rna_mean_squared_error: 5.1114 - m_rna_mean_absolute_error: 1.4186 - pro_mean_absolute_error: 0.4099 - pro_mean_squared_error: 0.3777 - cl_cancer_acc: 0.9622 - val_loss: 0.3994 - val_m_rna_loss: 5.0168 - val_pro_loss: 0.3583 - val_cl_cancer_loss: 0.2613 - val_m_rna_vae_loss: 5.0168 - val_m_rna_mean_squared_error: 5.0162 - val_m_rna_mean_absolute_error: 1.3886 - val_pro_mean_absolute_error: 0.3975 - val_pro_mean_squared_error: 0.3583 - val_cl_cancer_acc: 0.9375\n",
            "Epoch 7/10\n",
            "5736/5736 [==============================] - 162s 28ms/sample - loss: 0.3294 - m_rna_loss: 5.1020 - pro_loss: 0.3751 - cl_cancer_loss: 0.1111 - m_rna_vae_loss: 5.1020 - m_rna_mean_squared_error: 5.1015 - m_rna_mean_absolute_error: 1.4144 - pro_mean_absolute_error: 0.4079 - pro_mean_squared_error: 0.3751 - cl_cancer_acc: 0.9613 - val_loss: 0.4054 - val_m_rna_loss: 5.0101 - val_pro_loss: 0.3586 - val_cl_cancer_loss: 0.2739 - val_m_rna_vae_loss: 5.0101 - val_m_rna_mean_squared_error: 5.0095 - val_m_rna_mean_absolute_error: 1.3870 - val_pro_mean_absolute_error: 0.3976 - val_pro_mean_squared_error: 0.3586 - val_cl_cancer_acc: 0.9301\n",
            "Epoch 8/10\n",
            "5736/5736 [==============================] - 162s 28ms/sample - loss: 0.3221 - m_rna_loss: 5.0895 - pro_loss: 0.3731 - cl_cancer_loss: 0.0980 - m_rna_vae_loss: 5.0895 - m_rna_mean_squared_error: 5.0889 - m_rna_mean_absolute_error: 1.4100 - pro_mean_absolute_error: 0.4065 - pro_mean_squared_error: 0.3731 - cl_cancer_acc: 0.9662 - val_loss: 0.4183 - val_m_rna_loss: 5.0338 - val_pro_loss: 0.3555 - val_cl_cancer_loss: 0.2978 - val_m_rna_vae_loss: 5.0338 - val_m_rna_mean_squared_error: 5.0331 - val_m_rna_mean_absolute_error: 1.3904 - val_pro_mean_absolute_error: 0.3956 - val_pro_mean_squared_error: 0.3555 - val_cl_cancer_acc: 0.9271\n",
            "Epoch 9/10\n",
            "5736/5736 [==============================] - 161s 28ms/sample - loss: 0.3115 - m_rna_loss: 5.0765 - pro_loss: 0.3701 - cl_cancer_loss: 0.0783 - m_rna_vae_loss: 5.0765 - m_rna_mean_squared_error: 5.0759 - m_rna_mean_absolute_error: 1.4051 - pro_mean_absolute_error: 0.4046 - pro_mean_squared_error: 0.3701 - cl_cancer_acc: 0.9768 - val_loss: 0.3919 - val_m_rna_loss: 4.9913 - val_pro_loss: 0.3575 - val_cl_cancer_loss: 0.2489 - val_m_rna_vae_loss: 4.9913 - val_m_rna_mean_squared_error: 4.9907 - val_m_rna_mean_absolute_error: 1.3784 - val_pro_mean_absolute_error: 0.3961 - val_pro_mean_squared_error: 0.3575 - val_cl_cancer_acc: 0.9286\n",
            "Epoch 10/10\n",
            "5736/5736 [==============================] - 159s 28ms/sample - loss: 0.3178 - m_rna_loss: 5.0703 - pro_loss: 0.3694 - cl_cancer_loss: 0.0916 - m_rna_vae_loss: 5.0703 - m_rna_mean_squared_error: 5.0697 - m_rna_mean_absolute_error: 1.4025 - pro_mean_absolute_error: 0.4039 - pro_mean_squared_error: 0.3694 - cl_cancer_acc: 0.9725 - val_loss: 0.3928 - val_m_rna_loss: 4.9942 - val_pro_loss: 0.3529 - val_cl_cancer_loss: 0.2509 - val_m_rna_vae_loss: 4.9942 - val_m_rna_mean_squared_error: 4.9936 - val_m_rna_mean_absolute_error: 1.3808 - val_pro_mean_absolute_error: 0.3932 - val_pro_mean_squared_error: 0.3529 - val_cl_cancer_acc: 0.9390\n"
          ],
          "name": "stdout"
        }
      ]
    },
    {
      "cell_type": "code",
      "metadata": {
        "id": "Gc8Ah1CtNEBE",
        "colab": {
          "base_uri": "https://localhost:8080/"
        },
        "outputId": "cea285d1-6ca1-4f7d-af75-090f0ed8bfea"
      },
      "source": [
        "def GetAverageRank(test, predict):\n",
        "    p = predict\n",
        "    rank  = 0\n",
        "    for k in range(len(p)):\n",
        "        temp = np.vstack((test, p[k]))\n",
        "        for i in range(temp.shape[0]):\n",
        "            temp[i] = np.subtract(temp[i], test[k])\n",
        "        temp = np.square(temp)\n",
        "        sum = temp.sum(axis = 1)\n",
        "        arr = []\n",
        "        for i in range(len(sum)):\n",
        "            arr.append((sum[i], i))\n",
        "        arr = sorted(arr, key=lambda x: x[0])\n",
        "        for i in range(len(arr)):\n",
        "            if arr[i][1] == len(p):\n",
        "                rank += i\n",
        "                break\n",
        "    rank /= len(p)\n",
        "    return rank\n",
        "\n",
        "print(GetAverageRank(test_y,pred_pro[1]))"
      ],
      "execution_count": 15,
      "outputs": [
        {
          "output_type": "stream",
          "text": [
            "13.705357142857142\n"
          ],
          "name": "stdout"
        }
      ]
    },
    {
      "cell_type": "code",
      "metadata": {
        "id": "SJ2Gw4PSahwj",
        "colab": {
          "base_uri": "https://localhost:8080/"
        },
        "outputId": "9fde96f5-a484-4c38-9cb4-2c6879be4ce0"
      },
      "source": [
        "print(\"Eval Metrics for Test Set\")\n",
        "print(\"explained_variance_score\", explained_variance_score(test_y, pred_pro[1]))\n",
        "print(\"median_absolute_error\", median_absolute_error(test_y, pred_pro[1]))\n",
        "print(\"r2_score\", r2_score(test_y, pred_pro[1]))\n",
        "print(\"RMSE\", sqrt(mean_squared_error(test_y, pred_pro[1])))\n",
        "print(\"mean_absolute_error\", mean_absolute_error(test_y, pred_pro[1]))\n",
        "print(\"mean_squared_error\", mean_squared_error(test_y, pred_pro[1]))"
      ],
      "execution_count": 16,
      "outputs": [
        {
          "output_type": "stream",
          "text": [
            "Eval Metrics for Test Set\n",
            "explained_variance_score 0.20025790537236318\n",
            "median_absolute_error 0.3164902983194564\n",
            "r2_score 0.13966418640429293\n",
            "RMSE 0.5938639618948646\n",
            "mean_absolute_error 0.3932677686016908\n",
            "mean_squared_error 0.3526744052374652\n"
          ],
          "name": "stdout"
        }
      ]
    },
    {
      "cell_type": "code",
      "metadata": {
        "id": "rUftL5P6a2WR",
        "colab": {
          "base_uri": "https://localhost:8080/"
        },
        "outputId": "3904427a-5e07-4744-a61b-ba3f92e4e54a"
      },
      "source": [
        "print(\"Eval Metrics for Train Set\")\n",
        "print(\"explained_variance_score\", explained_variance_score(train_y,pred_train[1]))\n",
        "print(\"median_absolute_error\", median_absolute_error(train_y,pred_train[1]))\n",
        "print(\"r2_score\", r2_score(train_y,pred_train[1]))\n",
        "print(\"RMSE\", sqrt(mean_squared_error(train_y,pred_train[1])))\n",
        "print(\"mean_absolute_error\", mean_absolute_error(train_y,pred_train[1]))\n",
        "print(\"mean_squared_error\", mean_squared_error(train_y,pred_train[1]))"
      ],
      "execution_count": 17,
      "outputs": [
        {
          "output_type": "stream",
          "text": [
            "Eval Metrics for Train Set\n",
            "explained_variance_score 0.20967799912230342\n",
            "median_absolute_error 0.31880421773218576\n",
            "r2_score 0.14456520605371578\n",
            "RMSE 0.5951626283633519\n",
            "mean_absolute_error 0.3944720391430388\n",
            "mean_squared_error 0.3542185542003733\n"
          ],
          "name": "stdout"
        }
      ]
    },
    {
      "cell_type": "code",
      "metadata": {
        "colab": {
          "base_uri": "https://localhost:8080/",
          "height": 281
        },
        "id": "EMJq_20Ll0Vt",
        "outputId": "576f227d-f86e-4335-ded0-9b89d25e4882"
      },
      "source": [
        "pyplot.plot(history.history['cl_cancer_acc'], color = 'green', label = 'classifier_acc')\n",
        "pyplot.xlabel=\"epoch\"\n",
        "pyplot.plot(history.history['val_cl_cancer_acc'], color = 'red', label = \"val_classifier_acc\")\n",
        "\n",
        "pyplot.plot(history.history['cl_cancer_loss'], color = 'Blue', label = \"classifier_loss\")\n",
        "pyplot.plot(history.history['val_cl_cancer_loss'], color = 'yellow', label = \"val_classifier_loss\")\n",
        "\n",
        "pyplot.title('Accuracy')\n",
        "pyplot.legend()\n",
        "pyplot.savefig(\"plot_acc.png\")"
      ],
      "execution_count": 18,
      "outputs": [
        {
          "output_type": "display_data",
          "data": {
            "image/png": "[encoded data removed]",
            "text/plain": [
              "<Figure size 432x288 with 1 Axes>"
            ]
          },
          "metadata": {
            "tags": [],
            "needs_background": "light"
          }
        }
      ]
    },
    {
      "cell_type": "code",
      "metadata": {
        "colab": {
          "base_uri": "https://localhost:8080/",
          "height": 281
        },
        "id": "abQDZxpBmBdw",
        "outputId": "191529ef-c33d-4a2f-ae94-a6b8a6ecd919"
      },
      "source": [
        "pyplot.plot(history.history['pro_loss'], color = 'green', label = 'pro_loss')\n",
        "pyplot.xlabel=\"epoch\"\n",
        "pyplot.plot(history.history['val_pro_loss'], color = 'red', label = \"val_pro_loss\")\n",
        "pyplot.plot(history.history['pro_mean_absolute_error'], color = 'black', label = 'pro_mean_absolute_error')\n",
        "pyplot.plot(history.history['val_pro_mean_absolute_error'], color = 'yellow', label = 'val_pro_mean_absolute_error')\n",
        "pyplot.title('Loss')\n",
        "pyplot.legend()\n",
        "pyplot.savefig(\"plot_loss.png\")"
      ],
      "execution_count": 19,
      "outputs": [
        {
          "output_type": "display_data",
          "data": {
            "image/png": "[encoded data removed]",
            "text/plain": [
              "<Figure size 432x288 with 1 Axes>"
            ]
          },
          "metadata": {
            "tags": [],
            "needs_background": "light"
          }
        }
      ]
    }
  ]
}